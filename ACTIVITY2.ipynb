{
 "cells": [
  {
   "cell_type": "code",
   "execution_count": 90,
   "id": "f35c3b0e-aa3f-4be1-add7-1f9eda6a7707",
   "metadata": {},
   "outputs": [],
   "source": [
    "import numpy as np\n",
    "import pandas as pd\n",
    "import warnings\n",
    "warnings.filterwarnings('ignore')\n",
    "import matplotlib.pyplot as plt\n",
    "import calendar\n",
    "\n"
   ]
  },
  {
   "cell_type": "code",
   "execution_count": 59,
   "id": "d9fae7ea-43fa-4e12-91d7-0d8565863737",
   "metadata": {},
   "outputs": [],
   "source": [
    "df = pd.read_csv ('Dataset//uk_accident_data.csv')\n"
   ]
  },
  {
   "cell_type": "code",
   "execution_count": 60,
   "id": "b440f780-2acc-4630-b582-c97bf810eccd",
   "metadata": {},
   "outputs": [],
   "source": [
    "df['Accident Date'] = pd.to_datetime(df['Accident Date'], dayfirst=True)\n",
    "df['year'] = df['Accident Date'].dt.year\n",
    "df['month'] = df['Accident Date'].dt.month\n",
    "df['day'] = df['Accident Date'].dt.day"
   ]
  },
  {
   "cell_type": "code",
   "execution_count": 61,
   "id": "5947561d-03bb-4f1e-88f0-b437ef71e398",
   "metadata": {},
   "outputs": [
    {
     "data": {
      "text/html": [
       "<div>\n",
       "<style scoped>\n",
       "    .dataframe tbody tr th:only-of-type {\n",
       "        vertical-align: middle;\n",
       "    }\n",
       "\n",
       "    .dataframe tbody tr th {\n",
       "        vertical-align: top;\n",
       "    }\n",
       "\n",
       "    .dataframe thead th {\n",
       "        text-align: right;\n",
       "    }\n",
       "</style>\n",
       "<table border=\"1\" class=\"dataframe\">\n",
       "  <thead>\n",
       "    <tr style=\"text-align: right;\">\n",
       "      <th></th>\n",
       "      <th>Index</th>\n",
       "      <th>Accident_Severity</th>\n",
       "      <th>Accident Date</th>\n",
       "      <th>Latitude</th>\n",
       "      <th>Light_Conditions</th>\n",
       "      <th>District Area</th>\n",
       "      <th>Longitude</th>\n",
       "      <th>Number_of_Casualties</th>\n",
       "      <th>Number_of_Vehicles</th>\n",
       "      <th>Road_Surface_Conditions</th>\n",
       "      <th>Road_Type</th>\n",
       "      <th>Urban_or_Rural_Area</th>\n",
       "      <th>Weather_Conditions</th>\n",
       "      <th>Vehicle_Type</th>\n",
       "      <th>year</th>\n",
       "      <th>month</th>\n",
       "      <th>day</th>\n",
       "    </tr>\n",
       "  </thead>\n",
       "  <tbody>\n",
       "    <tr>\n",
       "      <th>0</th>\n",
       "      <td>200701BS64157</td>\n",
       "      <td>Serious</td>\n",
       "      <td>2019-06-05</td>\n",
       "      <td>51.506187</td>\n",
       "      <td>Darkness - lights lit</td>\n",
       "      <td>Kensington and Chelsea</td>\n",
       "      <td>-0.209082</td>\n",
       "      <td>1</td>\n",
       "      <td>2</td>\n",
       "      <td>Dry</td>\n",
       "      <td>Single carriageway</td>\n",
       "      <td>Urban</td>\n",
       "      <td>Fine no high winds</td>\n",
       "      <td>Car</td>\n",
       "      <td>2019</td>\n",
       "      <td>6</td>\n",
       "      <td>5</td>\n",
       "    </tr>\n",
       "    <tr>\n",
       "      <th>1</th>\n",
       "      <td>200701BS65737</td>\n",
       "      <td>Serious</td>\n",
       "      <td>2019-07-02</td>\n",
       "      <td>51.495029</td>\n",
       "      <td>Daylight</td>\n",
       "      <td>Kensington and Chelsea</td>\n",
       "      <td>-0.173647</td>\n",
       "      <td>1</td>\n",
       "      <td>2</td>\n",
       "      <td>Wet or damp</td>\n",
       "      <td>Single carriageway</td>\n",
       "      <td>Urban</td>\n",
       "      <td>Raining no high winds</td>\n",
       "      <td>Car</td>\n",
       "      <td>2019</td>\n",
       "      <td>7</td>\n",
       "      <td>2</td>\n",
       "    </tr>\n",
       "    <tr>\n",
       "      <th>2</th>\n",
       "      <td>200701BS66127</td>\n",
       "      <td>Serious</td>\n",
       "      <td>2019-08-26</td>\n",
       "      <td>51.517715</td>\n",
       "      <td>Darkness - lighting unknown</td>\n",
       "      <td>Kensington and Chelsea</td>\n",
       "      <td>-0.210215</td>\n",
       "      <td>1</td>\n",
       "      <td>3</td>\n",
       "      <td>Dry</td>\n",
       "      <td>NaN</td>\n",
       "      <td>Urban</td>\n",
       "      <td>NaN</td>\n",
       "      <td>Taxi/Private hire car</td>\n",
       "      <td>2019</td>\n",
       "      <td>8</td>\n",
       "      <td>26</td>\n",
       "    </tr>\n",
       "    <tr>\n",
       "      <th>3</th>\n",
       "      <td>200701BS66128</td>\n",
       "      <td>Serious</td>\n",
       "      <td>2019-08-16</td>\n",
       "      <td>51.495478</td>\n",
       "      <td>Daylight</td>\n",
       "      <td>Kensington and Chelsea</td>\n",
       "      <td>-0.202731</td>\n",
       "      <td>1</td>\n",
       "      <td>4</td>\n",
       "      <td>Dry</td>\n",
       "      <td>Single carriageway</td>\n",
       "      <td>Urban</td>\n",
       "      <td>Fine no high winds</td>\n",
       "      <td>Bus or coach (17 or more pass seats)</td>\n",
       "      <td>2019</td>\n",
       "      <td>8</td>\n",
       "      <td>16</td>\n",
       "    </tr>\n",
       "    <tr>\n",
       "      <th>4</th>\n",
       "      <td>200701BS66837</td>\n",
       "      <td>Slight</td>\n",
       "      <td>2019-09-03</td>\n",
       "      <td>51.488576</td>\n",
       "      <td>Darkness - lights lit</td>\n",
       "      <td>Kensington and Chelsea</td>\n",
       "      <td>-0.192487</td>\n",
       "      <td>1</td>\n",
       "      <td>2</td>\n",
       "      <td>Dry</td>\n",
       "      <td>NaN</td>\n",
       "      <td>Urban</td>\n",
       "      <td>NaN</td>\n",
       "      <td>Other vehicle</td>\n",
       "      <td>2019</td>\n",
       "      <td>9</td>\n",
       "      <td>3</td>\n",
       "    </tr>\n",
       "    <tr>\n",
       "      <th>...</th>\n",
       "      <td>...</td>\n",
       "      <td>...</td>\n",
       "      <td>...</td>\n",
       "      <td>...</td>\n",
       "      <td>...</td>\n",
       "      <td>...</td>\n",
       "      <td>...</td>\n",
       "      <td>...</td>\n",
       "      <td>...</td>\n",
       "      <td>...</td>\n",
       "      <td>...</td>\n",
       "      <td>...</td>\n",
       "      <td>...</td>\n",
       "      <td>...</td>\n",
       "      <td>...</td>\n",
       "      <td>...</td>\n",
       "      <td>...</td>\n",
       "    </tr>\n",
       "    <tr>\n",
       "      <th>660674</th>\n",
       "      <td>201091NM01760</td>\n",
       "      <td>Slight</td>\n",
       "      <td>2022-02-18</td>\n",
       "      <td>57.374005</td>\n",
       "      <td>Daylight</td>\n",
       "      <td>Highland</td>\n",
       "      <td>-3.467828</td>\n",
       "      <td>2</td>\n",
       "      <td>1</td>\n",
       "      <td>Dry</td>\n",
       "      <td>Single carriageway</td>\n",
       "      <td>Rural</td>\n",
       "      <td>Fine no high winds</td>\n",
       "      <td>Car</td>\n",
       "      <td>2022</td>\n",
       "      <td>2</td>\n",
       "      <td>18</td>\n",
       "    </tr>\n",
       "    <tr>\n",
       "      <th>660675</th>\n",
       "      <td>201091NM01881</td>\n",
       "      <td>Slight</td>\n",
       "      <td>2022-02-21</td>\n",
       "      <td>57.232273</td>\n",
       "      <td>Darkness - no lighting</td>\n",
       "      <td>Highland</td>\n",
       "      <td>-3.809281</td>\n",
       "      <td>1</td>\n",
       "      <td>1</td>\n",
       "      <td>Frost or ice</td>\n",
       "      <td>Single carriageway</td>\n",
       "      <td>Rural</td>\n",
       "      <td>Fine no high winds</td>\n",
       "      <td>Car</td>\n",
       "      <td>2022</td>\n",
       "      <td>2</td>\n",
       "      <td>21</td>\n",
       "    </tr>\n",
       "    <tr>\n",
       "      <th>660676</th>\n",
       "      <td>201091NM01935</td>\n",
       "      <td>Slight</td>\n",
       "      <td>2022-02-23</td>\n",
       "      <td>57.585044</td>\n",
       "      <td>Daylight</td>\n",
       "      <td>Highland</td>\n",
       "      <td>-3.862727</td>\n",
       "      <td>1</td>\n",
       "      <td>3</td>\n",
       "      <td>Frost or ice</td>\n",
       "      <td>Single carriageway</td>\n",
       "      <td>Rural</td>\n",
       "      <td>Fine no high winds</td>\n",
       "      <td>Car</td>\n",
       "      <td>2022</td>\n",
       "      <td>2</td>\n",
       "      <td>23</td>\n",
       "    </tr>\n",
       "    <tr>\n",
       "      <th>660677</th>\n",
       "      <td>201091NM01964</td>\n",
       "      <td>Serious</td>\n",
       "      <td>2022-02-23</td>\n",
       "      <td>57.214898</td>\n",
       "      <td>Darkness - no lighting</td>\n",
       "      <td>Highland</td>\n",
       "      <td>-3.823997</td>\n",
       "      <td>1</td>\n",
       "      <td>2</td>\n",
       "      <td>Wet or damp</td>\n",
       "      <td>Single carriageway</td>\n",
       "      <td>Rural</td>\n",
       "      <td>Fine no high winds</td>\n",
       "      <td>Motorcycle over 500cc</td>\n",
       "      <td>2022</td>\n",
       "      <td>2</td>\n",
       "      <td>23</td>\n",
       "    </tr>\n",
       "    <tr>\n",
       "      <th>660678</th>\n",
       "      <td>201091NM02142</td>\n",
       "      <td>Serious</td>\n",
       "      <td>2022-02-28</td>\n",
       "      <td>57.575210</td>\n",
       "      <td>Daylight</td>\n",
       "      <td>Highland</td>\n",
       "      <td>-3.895673</td>\n",
       "      <td>1</td>\n",
       "      <td>1</td>\n",
       "      <td>Wet or damp</td>\n",
       "      <td>Dual carriageway</td>\n",
       "      <td>Rural</td>\n",
       "      <td>Snowing no high winds</td>\n",
       "      <td>Car</td>\n",
       "      <td>2022</td>\n",
       "      <td>2</td>\n",
       "      <td>28</td>\n",
       "    </tr>\n",
       "  </tbody>\n",
       "</table>\n",
       "<p>660679 rows × 17 columns</p>\n",
       "</div>"
      ],
      "text/plain": [
       "                Index Accident_Severity Accident Date   Latitude  \\\n",
       "0       200701BS64157           Serious    2019-06-05  51.506187   \n",
       "1       200701BS65737           Serious    2019-07-02  51.495029   \n",
       "2       200701BS66127           Serious    2019-08-26  51.517715   \n",
       "3       200701BS66128           Serious    2019-08-16  51.495478   \n",
       "4       200701BS66837            Slight    2019-09-03  51.488576   \n",
       "...               ...               ...           ...        ...   \n",
       "660674  201091NM01760            Slight    2022-02-18  57.374005   \n",
       "660675  201091NM01881            Slight    2022-02-21  57.232273   \n",
       "660676  201091NM01935            Slight    2022-02-23  57.585044   \n",
       "660677  201091NM01964           Serious    2022-02-23  57.214898   \n",
       "660678  201091NM02142           Serious    2022-02-28  57.575210   \n",
       "\n",
       "                   Light_Conditions           District Area  Longitude  \\\n",
       "0             Darkness - lights lit  Kensington and Chelsea  -0.209082   \n",
       "1                          Daylight  Kensington and Chelsea  -0.173647   \n",
       "2       Darkness - lighting unknown  Kensington and Chelsea  -0.210215   \n",
       "3                          Daylight  Kensington and Chelsea  -0.202731   \n",
       "4             Darkness - lights lit  Kensington and Chelsea  -0.192487   \n",
       "...                             ...                     ...        ...   \n",
       "660674                     Daylight                Highland  -3.467828   \n",
       "660675       Darkness - no lighting                Highland  -3.809281   \n",
       "660676                     Daylight                Highland  -3.862727   \n",
       "660677       Darkness - no lighting                Highland  -3.823997   \n",
       "660678                     Daylight                Highland  -3.895673   \n",
       "\n",
       "        Number_of_Casualties  Number_of_Vehicles Road_Surface_Conditions  \\\n",
       "0                          1                   2                     Dry   \n",
       "1                          1                   2             Wet or damp   \n",
       "2                          1                   3                     Dry   \n",
       "3                          1                   4                     Dry   \n",
       "4                          1                   2                     Dry   \n",
       "...                      ...                 ...                     ...   \n",
       "660674                     2                   1                     Dry   \n",
       "660675                     1                   1            Frost or ice   \n",
       "660676                     1                   3            Frost or ice   \n",
       "660677                     1                   2             Wet or damp   \n",
       "660678                     1                   1             Wet or damp   \n",
       "\n",
       "                 Road_Type Urban_or_Rural_Area     Weather_Conditions  \\\n",
       "0       Single carriageway               Urban     Fine no high winds   \n",
       "1       Single carriageway               Urban  Raining no high winds   \n",
       "2                      NaN               Urban                    NaN   \n",
       "3       Single carriageway               Urban     Fine no high winds   \n",
       "4                      NaN               Urban                    NaN   \n",
       "...                    ...                 ...                    ...   \n",
       "660674  Single carriageway               Rural     Fine no high winds   \n",
       "660675  Single carriageway               Rural     Fine no high winds   \n",
       "660676  Single carriageway               Rural     Fine no high winds   \n",
       "660677  Single carriageway               Rural     Fine no high winds   \n",
       "660678    Dual carriageway               Rural  Snowing no high winds   \n",
       "\n",
       "                                Vehicle_Type  year  month  day  \n",
       "0                                        Car  2019      6    5  \n",
       "1                                        Car  2019      7    2  \n",
       "2                      Taxi/Private hire car  2019      8   26  \n",
       "3       Bus or coach (17 or more pass seats)  2019      8   16  \n",
       "4                              Other vehicle  2019      9    3  \n",
       "...                                      ...   ...    ...  ...  \n",
       "660674                                   Car  2022      2   18  \n",
       "660675                                   Car  2022      2   21  \n",
       "660676                                   Car  2022      2   23  \n",
       "660677                 Motorcycle over 500cc  2022      2   23  \n",
       "660678                                   Car  2022      2   28  \n",
       "\n",
       "[660679 rows x 17 columns]"
      ]
     },
     "execution_count": 61,
     "metadata": {},
     "output_type": "execute_result"
    }
   ],
   "source": [
    "df\n"
   ]
  },
  {
   "cell_type": "markdown",
   "id": "db479603-37d7-4848-a7ad-48efdaab9a9b",
   "metadata": {},
   "source": [
    "<h1>1. Correlation between vehicles and casualties</h1>"
   ]
  },
  {
   "cell_type": "code",
   "execution_count": 62,
   "id": "9ac70678-c105-403d-9726-c21d2e69107f",
   "metadata": {},
   "outputs": [
    {
     "data": {
      "text/html": [
       "<div>\n",
       "<style scoped>\n",
       "    .dataframe tbody tr th:only-of-type {\n",
       "        vertical-align: middle;\n",
       "    }\n",
       "\n",
       "    .dataframe tbody tr th {\n",
       "        vertical-align: top;\n",
       "    }\n",
       "\n",
       "    .dataframe thead th {\n",
       "        text-align: right;\n",
       "    }\n",
       "</style>\n",
       "<table border=\"1\" class=\"dataframe\">\n",
       "  <thead>\n",
       "    <tr style=\"text-align: right;\">\n",
       "      <th></th>\n",
       "      <th>Number_of_Vehicles</th>\n",
       "      <th>Number_of_Casualties</th>\n",
       "    </tr>\n",
       "  </thead>\n",
       "  <tbody>\n",
       "    <tr>\n",
       "      <th>Number_of_Vehicles</th>\n",
       "      <td>1.000000</td>\n",
       "      <td>0.228889</td>\n",
       "    </tr>\n",
       "    <tr>\n",
       "      <th>Number_of_Casualties</th>\n",
       "      <td>0.228889</td>\n",
       "      <td>1.000000</td>\n",
       "    </tr>\n",
       "  </tbody>\n",
       "</table>\n",
       "</div>"
      ],
      "text/plain": [
       "                      Number_of_Vehicles  Number_of_Casualties\n",
       "Number_of_Vehicles              1.000000              0.228889\n",
       "Number_of_Casualties            0.228889              1.000000"
      ]
     },
     "execution_count": 62,
     "metadata": {},
     "output_type": "execute_result"
    }
   ],
   "source": [
    "df[['Number_of_Vehicles','Number_of_Casualties']].corr()\n"
   ]
  },
  {
   "cell_type": "markdown",
   "id": "6f09f38f-59a5-4776-b9b5-284ef1950c65",
   "metadata": {},
   "source": [
    "<h1>Insight shows accidents with more vehicles tend to have slightly more casualties.</h1>"
   ]
  },
  {
   "cell_type": "markdown",
   "id": "ce529fb7-3417-4370-9356-bccbffa90288",
   "metadata": {},
   "source": [
    "<h1>2.What is the Average casualties per district</h1>"
   ]
  },
  {
   "cell_type": "code",
   "execution_count": 63,
   "id": "cd73084e-ee57-4d1c-bab8-0d7f786fb2b1",
   "metadata": {},
   "outputs": [
    {
     "data": {
      "text/plain": [
       "District Area\n",
       "Blaeu Gwent          1.693694\n",
       "West Somerset        1.613990\n",
       "Derwentside          1.606186\n",
       "Chester-le-Street    1.603306\n",
       "Durham               1.580431\n",
       "Name: Number_of_Casualties, dtype: float64"
      ]
     },
     "execution_count": 63,
     "metadata": {},
     "output_type": "execute_result"
    }
   ],
   "source": [
    " df.groupby('District Area')['Number_of_Casualties'].mean().sort_values(ascending=False).head()"
   ]
  },
  {
   "cell_type": "markdown",
   "id": "b1bb134e-1cda-4a4f-8933-857e821d687c",
   "metadata": {},
   "source": [
    "<h1> Insight shows some districts report higher average casualties than others.</h1>"
   ]
  },
  {
   "cell_type": "markdown",
   "id": "a11f084c-07ae-4281-bf8b-7c8b929f137d",
   "metadata": {},
   "source": [
    "<h1>3. Which district has the highest average casualties per accident?</h1>"
   ]
  },
  {
   "cell_type": "code",
   "execution_count": 64,
   "id": "a50f1bc9-cca9-457e-8988-7c230f280800",
   "metadata": {},
   "outputs": [
    {
     "data": {
      "text/plain": [
       "'Blaeu Gwent'"
      ]
     },
     "execution_count": 64,
     "metadata": {},
     "output_type": "execute_result"
    }
   ],
   "source": [
    "df.groupby('District Area')['Number_of_Casualties'].mean().idxmax()\n"
   ]
  },
  {
   "cell_type": "markdown",
   "id": "320d876e-4f42-425d-9265-d90f70794322",
   "metadata": {},
   "source": [
    "<h1>Insights shows its blaeu gwent</h1>"
   ]
  },
  {
   "cell_type": "markdown",
   "id": "48732514-94c7-4dae-b0f6-d95ffac96198",
   "metadata": {},
   "source": [
    "<h1>4.What are the Accident severity counts by road surface</h1>"
   ]
  },
  {
   "cell_type": "code",
   "execution_count": 65,
   "id": "0448b0fe-0720-4d7e-976a-9db5b138076e",
   "metadata": {},
   "outputs": [
    {
     "data": {
      "text/plain": [
       "Road_Surface_Conditions  Accident_Severity\n",
       "Dry                      Slight               380395\n",
       "                         Serious               61638\n",
       "                         Fatal                  5788\n",
       "Flood over 3cm. deep     Slight                  842\n",
       "                         Serious                 152\n",
       "                         Fatal                    23\n",
       "Frost or ice             Slight                16317\n",
       "                         Serious                2007\n",
       "                         Fatal                   193\n",
       "Snow                     Slight                 5290\n",
       "                         Serious                 565\n",
       "                         Fatal                    35\n",
       "Wet or damp              Slight               160303\n",
       "                         Serious               23785\n",
       "                         Fatal                  2620\n",
       "Name: count, dtype: int64"
      ]
     },
     "execution_count": 65,
     "metadata": {},
     "output_type": "execute_result"
    }
   ],
   "source": [
    "df.groupby('Road_Surface_Conditions')['Accident_Severity'].value_counts()\n"
   ]
  },
  {
   "cell_type": "markdown",
   "id": "6b8bf3f0-1d6a-4130-84c6-9d199f75b8cb",
   "metadata": {},
   "source": [
    "<h1> Insight shows dry roads still account for the majority of accidents.</h1>"
   ]
  },
  {
   "cell_type": "markdown",
   "id": "cae2afd4-fde8-45ba-aee8-afdc9c8c7e34",
   "metadata": {},
   "source": [
    "<h1>5. What percentage of accidents were Fatal?</h1>"
   ]
  },
  {
   "cell_type": "code",
   "execution_count": 66,
   "id": "d4c7ff52-7b05-4c4e-b77d-fc91279f8ab0",
   "metadata": {},
   "outputs": [
    {
     "data": {
      "text/plain": [
       "Accident_Severity\n",
       "Slight     85.34\n",
       "Serious    13.35\n",
       "Fatal       1.31\n",
       "Name: proportion, dtype: float64"
      ]
     },
     "execution_count": 66,
     "metadata": {},
     "output_type": "execute_result"
    }
   ],
   "source": [
    "(df['Accident_Severity'].value_counts(normalize=True) * 100).round(2)\n"
   ]
  },
  {
   "cell_type": "markdown",
   "id": "ffaba76d-997d-4d39-b10f-0bbb493b5439",
   "metadata": {},
   "source": [
    "<h1>Insights shows its 1.30 or sumthing</h1>"
   ]
  },
  {
   "cell_type": "markdown",
   "id": "ce2ba231-05d8-4857-92bb-9d915133a933",
   "metadata": {},
   "source": [
    "<h1>6. Which district has the most accidents recorded?</h1>"
   ]
  },
  {
   "cell_type": "code",
   "execution_count": 67,
   "id": "a21cce71-914d-4a99-8a2f-d60ce76db9c7",
   "metadata": {},
   "outputs": [
    {
     "data": {
      "text/plain": [
       "'Birmingham'"
      ]
     },
     "execution_count": 67,
     "metadata": {},
     "output_type": "execute_result"
    }
   ],
   "source": [
    "df['District Area'].value_counts().idxmax()\n"
   ]
  },
  {
   "cell_type": "markdown",
   "id": "679ea7cc-94d9-4939-ae4c-772cffd0df3b",
   "metadata": {},
   "source": [
    "<H1>i dont know about you but i can clearly see the insight in here</H1>"
   ]
  },
  {
   "cell_type": "markdown",
   "id": "577fd4a0-94d5-46a6-942b-bcee75b9de19",
   "metadata": {},
   "source": [
    "<h1>7. How many accidents occurred during Daylight vs Darkness?</h1>"
   ]
  },
  {
   "cell_type": "code",
   "execution_count": 68,
   "id": "c04f0e22-4c63-486c-9197-9d8094cc5358",
   "metadata": {},
   "outputs": [
    {
     "data": {
      "text/plain": [
       "Light_Conditions\n",
       "Daylight                       484880\n",
       "Darkness - lights lit          129335\n",
       "Darkness - no lighting          37437\n",
       "Darkness - lighting unknown      6484\n",
       "Darkness - lights unlit          2543\n",
       "Name: count, dtype: int64"
      ]
     },
     "execution_count": 68,
     "metadata": {},
     "output_type": "execute_result"
    }
   ],
   "source": [
    "df['Light_Conditions'].value_counts()\n"
   ]
  },
  {
   "cell_type": "markdown",
   "id": "4dba109f-c3a3-40e0-addb-662049087f94",
   "metadata": {},
   "source": [
    "<h1>Insights shows the stark difference between day and night accidnets</h1>"
   ]
  },
  {
   "cell_type": "markdown",
   "id": "5630e57d-3aa7-4e14-9922-115489df4da2",
   "metadata": {},
   "source": [
    "<h1>8. What’s the most common weather condition during accidents?</h1>"
   ]
  },
  {
   "cell_type": "code",
   "execution_count": 69,
   "id": "60274e9f-d41b-4859-a5c3-3206abde0a1f",
   "metadata": {},
   "outputs": [
    {
     "data": {
      "text/plain": [
       "'Fine no high winds'"
      ]
     },
     "execution_count": 69,
     "metadata": {},
     "output_type": "execute_result"
    }
   ],
   "source": [
    "df['Weather_Conditions'].mode()[0]\n"
   ]
  },
  {
   "cell_type": "markdown",
   "id": "78659f80-e0dc-49d0-a12c-ffa178e86ca7",
   "metadata": {},
   "source": [
    "<h1>Insights shows that people get complecent and get into more accidnets if the weather is good</h1>"
   ]
  },
  {
   "cell_type": "markdown",
   "id": "1a22121d-7d46-4c1e-a332-67cc6d5a854a",
   "metadata": {},
   "source": [
    "<H1>9. How many accidents occurred in Urban vs Rural areas?</H1>"
   ]
  },
  {
   "cell_type": "code",
   "execution_count": 70,
   "id": "02dc05e5-0cb0-4b5f-9592-7ad7f91af57a",
   "metadata": {},
   "outputs": [
    {
     "data": {
      "text/plain": [
       "Urban_or_Rural_Area\n",
       "Urban          421663\n",
       "Rural          238990\n",
       "Unallocated        11\n",
       "Name: count, dtype: int64"
      ]
     },
     "execution_count": 70,
     "metadata": {},
     "output_type": "execute_result"
    }
   ],
   "source": [
    "df['Urban_or_Rural_Area'].value_counts()\n"
   ]
  },
  {
   "cell_type": "markdown",
   "id": "0eb5a119-4ef6-4a5f-87a1-05c11b72f9ec",
   "metadata": {},
   "source": [
    "<H1>Insights shows that urban areas have more accidents</H1>"
   ]
  },
  {
   "cell_type": "markdown",
   "id": "7d6e5cc1-9852-4e0b-b1ed-698bc83f7a45",
   "metadata": {},
   "source": [
    "<h1>10. What is the maximum number of vehicles involved in a single accident?</h1>"
   ]
  },
  {
   "cell_type": "code",
   "execution_count": 71,
   "id": "ffe51d32-cf3a-460b-b6b8-63785c3b132f",
   "metadata": {},
   "outputs": [
    {
     "data": {
      "text/plain": [
       "np.int64(32)"
      ]
     },
     "execution_count": 71,
     "metadata": {},
     "output_type": "execute_result"
    }
   ],
   "source": [
    "df['Number_of_Vehicles'].max()\n"
   ]
  },
  {
   "cell_type": "markdown",
   "id": "57ec3b38-23b7-4094-8e6e-651cf01d8c43",
   "metadata": {},
   "source": [
    "<h1>11. Do urban or rural areas have higher casualties per accident?</h1>"
   ]
  },
  {
   "cell_type": "code",
   "execution_count": 72,
   "id": "9f4e500f-ba6e-4fed-910c-980b27cf429c",
   "metadata": {},
   "outputs": [
    {
     "data": {
      "text/plain": [
       "Urban_or_Rural_Area\n",
       "Rural          1.479204\n",
       "Unallocated    1.181818\n",
       "Urban          1.287815\n",
       "Name: Number_of_Casualties, dtype: float64"
      ]
     },
     "execution_count": 72,
     "metadata": {},
     "output_type": "execute_result"
    }
   ],
   "source": [
    "df.groupby('Urban_or_Rural_Area')['Number_of_Casualties'].mean()\n"
   ]
  },
  {
   "cell_type": "markdown",
   "id": "bb612aec-89f3-4204-b731-f139682ec637",
   "metadata": {},
   "source": [
    "<h1>Insights shows that yes it is</h1>\n",
    "<h4> i know the question looks the same as 9 but pls gib me credit theres only so muhc question i can think of at night :<</h4>"
   ]
  },
  {
   "cell_type": "markdown",
   "id": "31ffa152-761e-4be8-acd5-8721f64c47e3",
   "metadata": {},
   "source": [
    "<h1>12 What’s the most dangerous vehicle type in terms of average casualties per accident?</h1>"
   ]
  },
  {
   "cell_type": "code",
   "execution_count": 73,
   "id": "ac5fb1c3-bcd8-4566-ab41-e2a84a173c52",
   "metadata": {},
   "outputs": [
    {
     "data": {
      "text/plain": [
       "Vehicle_Type\n",
       "Data missing or out of range       1.500000\n",
       "Pedal cycle                        1.370558\n",
       "Taxi/Private hire car              1.368663\n",
       "Goods over 3.5t. and under 7.5t    1.362861\n",
       "Motorcycle over 500cc              1.359434\n",
       "Name: Number_of_Casualties, dtype: float64"
      ]
     },
     "execution_count": 73,
     "metadata": {},
     "output_type": "execute_result"
    }
   ],
   "source": [
    "df.groupby('Vehicle_Type')['Number_of_Casualties'].mean().sort_values(ascending=False).head(5)\n"
   ]
  },
  {
   "cell_type": "markdown",
   "id": "456add70-489e-45d9-a86e-b43472ac8f16",
   "metadata": {},
   "source": [
    "<h1>Insights shows its......idk???? its not showing it says it cant show </h1>"
   ]
  },
  {
   "cell_type": "markdown",
   "id": "8b09ae1e-156c-402e-b92d-ff69c0b66497",
   "metadata": {},
   "source": [
    "<h1>13.What is the Monthly accidents under wet roads</h1>"
   ]
  },
  {
   "cell_type": "code",
   "execution_count": 74,
   "id": "45c2fc45-610f-4ad4-9322-d5398557d36b",
   "metadata": {},
   "outputs": [
    {
     "data": {
      "text/plain": [
       "Series([], dtype: int64)"
      ]
     },
     "execution_count": 74,
     "metadata": {},
     "output_type": "execute_result"
    }
   ],
   "source": [
    "df[df['Road_Surface_Conditions']=='Wet'].groupby(df['month']).size()\n"
   ]
  },
  {
   "cell_type": "markdown",
   "id": "e3a1fec5-54cb-4d12-9744-596833a50284",
   "metadata": {},
   "source": [
    "<h1>Insight shows wet road accidents are frequent i guess.</h1>"
   ]
  },
  {
   "cell_type": "markdown",
   "id": "606d8d77-6454-4315-bb44-5b31e92e3161",
   "metadata": {},
   "source": [
    "<h1>14. what are the average casualties for daylight vs darkness?</h1>"
   ]
  },
  {
   "cell_type": "code",
   "execution_count": 75,
   "id": "3d83e75d-29f3-4937-a047-fd72d15242af",
   "metadata": {},
   "outputs": [
    {
     "data": {
      "text/plain": [
       "Light_Conditions\n",
       "Darkness - lighting unknown    1.433249\n",
       "Darkness - lights lit          1.455672\n",
       "Darkness - lights unlit        1.438889\n",
       "Darkness - no lighting         1.799972\n",
       "Daylight                       1.432265\n",
       "Name: Number_of_Casualties, dtype: float64"
      ]
     },
     "execution_count": 75,
     "metadata": {},
     "output_type": "execute_result"
    }
   ],
   "source": [
    "df[df['Accident_Severity']=='Serious'].groupby('Light_Conditions')['Number_of_Casualties'].mean()\n"
   ]
  },
  {
   "cell_type": "markdown",
   "id": "a86a29ca-7c56-4635-8452-351128121eec",
   "metadata": {},
   "source": [
    "<h1>iInsight shows serious accidents in darkness often cause slightly more casualties.</h1>\n"
   ]
  },
  {
   "cell_type": "markdown",
   "id": "6c395a9f-4053-4fab-a335-9cf7d90c1004",
   "metadata": {},
   "source": [
    "<h1>15. Which is the safest month?</h1>"
   ]
  },
  {
   "cell_type": "code",
   "execution_count": 76,
   "id": "136b477a-ce43-4b84-a05f-fcea630c6b9c",
   "metadata": {},
   "outputs": [
    {
     "data": {
      "text/plain": [
       "np.int32(8)"
      ]
     },
     "execution_count": 76,
     "metadata": {},
     "output_type": "execute_result"
    }
   ],
   "source": [
    "df.groupby('month')['Number_of_Casualties'].mean().idxmax()\n"
   ]
  },
  {
   "cell_type": "markdown",
   "id": "cb32bf97-98bb-4737-b030-900d6c8494a2",
   "metadata": {},
   "source": [
    "<h1> Insights shows that I think its August because it says \"8'</h1>"
   ]
  },
  {
   "cell_type": "markdown",
   "id": "e6e33da1-32cf-48f5-b632-cee28658701d",
   "metadata": {},
   "source": [
    "<h1>16. What is the average number of casualties per accident?</h1>"
   ]
  },
  {
   "cell_type": "code",
   "execution_count": 77,
   "id": "b2c07695-6bd9-4177-b396-9bc9eaa054de",
   "metadata": {},
   "outputs": [
    {
     "data": {
      "text/plain": [
       "np.float64(1.36)"
      ]
     },
     "execution_count": 77,
     "metadata": {},
     "output_type": "execute_result"
    }
   ],
   "source": [
    "df['Number_of_Casualties'].mean().round(2)\n"
   ]
  },
  {
   "cell_type": "markdown",
   "id": "683b830b-a565-4fb1-b0a6-0458f08a0e3d",
   "metadata": {},
   "source": [
    "<h1>insiights shows that its around 1.36</h1>"
   ]
  },
  {
   "cell_type": "markdown",
   "id": "e885f952-58f4-4100-a494-7d88c9c9544b",
   "metadata": {},
   "source": [
    "<h1>17. What is the correlation between the number of casualties and the number of vehicles involved in accidents?</h1>"
   ]
  },
  {
   "cell_type": "code",
   "execution_count": 78,
   "id": "5b909343-336e-491a-a58f-ace90f436358",
   "metadata": {},
   "outputs": [
    {
     "data": {
      "text/plain": [
       "np.float64(0.22888886126927563)"
      ]
     },
     "execution_count": 78,
     "metadata": {},
     "output_type": "execute_result"
    }
   ],
   "source": [
    "df['Number_of_Casualties'].corr(df['Number_of_Vehicles'])\n"
   ]
  },
  {
   "cell_type": "markdown",
   "id": "1e1a7c26-fe7d-44b9-a181-402fda563ba9",
   "metadata": {},
   "source": [
    "<h1>insights shows more vehicles usually mean more casualties, but not very strongly.</h1>"
   ]
  },
  {
   "cell_type": "markdown",
   "id": "496d9980-f3ad-4392-a16e-bee13f53e119",
   "metadata": {},
   "source": [
    "<h1>18. What is the correlation between latitude and longitude?</h1>"
   ]
  },
  {
   "cell_type": "code",
   "execution_count": 79,
   "id": "141edec2-b428-4422-906a-85c0964edcf8",
   "metadata": {},
   "outputs": [
    {
     "data": {
      "text/plain": [
       "np.float64(-0.3981136594753893)"
      ]
     },
     "execution_count": 79,
     "metadata": {},
     "output_type": "execute_result"
    }
   ],
   "source": [
    "df['Latitude'].corr(df['Longitude'])\n"
   ]
  },
  {
   "cell_type": "markdown",
   "id": "5298b5d9-5fd8-461c-b9b7-4255f8343d0c",
   "metadata": {},
   "source": [
    "\n",
    "<h1> insights as latitude increases, longitude tends to decrease </h1>"
   ]
  },
  {
   "cell_type": "markdown",
   "id": "44b84330-72aa-4dc0-81bd-3308371c8ce1",
   "metadata": {},
   "source": [
    "<h1>19. What is the correlation between latitude and the number of casualties?</h1>"
   ]
  },
  {
   "cell_type": "code",
   "execution_count": 80,
   "id": "98636631-ffb7-43a5-b066-e571d0b0611e",
   "metadata": {},
   "outputs": [
    {
     "data": {
      "text/plain": [
       "np.float64(0.032200913378368654)"
      ]
     },
     "execution_count": 80,
     "metadata": {},
     "output_type": "execute_result"
    }
   ],
   "source": [
    "df['Latitude'].corr(df['Number_of_Casualties'])\n"
   ]
  },
  {
   "cell_type": "markdown",
   "id": "510a174d-fb00-4a32-9086-a6ac472a2b93",
   "metadata": {},
   "source": [
    "<h1>insights shows its weak meanign it has almost no correlation with the amount of casualties </h1>"
   ]
  },
  {
   "cell_type": "markdown",
   "id": "c5772a52-6256-4cce-b2ac-40003d9e35ed",
   "metadata": {},
   "source": [
    "<h1>20. What is the correlation between longitude and the number of casualties?</h1>"
   ]
  },
  {
   "cell_type": "code",
   "execution_count": 81,
   "id": "2f0ae882-6459-41ac-87ae-d26abaf2d4e2",
   "metadata": {},
   "outputs": [
    {
     "data": {
      "text/plain": [
       "np.float64(-0.04040593604880228)"
      ]
     },
     "execution_count": 81,
     "metadata": {},
     "output_type": "execute_result"
    }
   ],
   "source": [
    "df['Longitude'].corr(df['Number_of_Casualties'])\n"
   ]
  },
  {
   "cell_type": "markdown",
   "id": "ee4d60d3-6781-4d3b-af85-201796e23347",
   "metadata": {},
   "source": [
    "<h1>insights shows its the same with lattitude meanign it has almost no correlation</h1>"
   ]
  },
  {
   "cell_type": "markdown",
   "id": "64b44bf6-8ea7-43fd-891d-267ab4f65e5d",
   "metadata": {},
   "source": [
    "<h1>Its visual time hehehe</h1>"
   ]
  },
  {
   "cell_type": "markdown",
   "id": "4c0853cc-4812-43d5-a74a-288280c5582f",
   "metadata": {},
   "source": [
    "<h1>21.Which district has the highest average casualties?</h1>"
   ]
  },
  {
   "cell_type": "code",
   "execution_count": 82,
   "id": "33c10080-0247-42b7-b499-313df0c9db9c",
   "metadata": {},
   "outputs": [
    {
     "data": {
      "image/png": "[encoded data removed]",
      "text/plain": [
       "<Figure size 640x480 with 1 Axes>"
      ]
     },
     "metadata": {},
     "output_type": "display_data"
    }
   ],
   "source": [
    "df.groupby('District Area')['Number_of_Casualties'].mean().sort_values(ascending=False).head(10).plot(kind='bar')\n",
    "plt.title(\"Top Districts by Avg Casualties\")\n",
    "plt.ylabel(\"Average Casualties\")\n",
    "plt.show()\n"
   ]
  },
  {
   "cell_type": "markdown",
   "id": "66914442-3acf-4361-b774-04c869ce2ab7",
   "metadata": {},
   "source": [
    "<h1>Insight shows certain districts have higher average casualties.</h1>"
   ]
  },
  {
   "cell_type": "markdown",
   "id": "5f9b0b0d-826b-417e-ac42-c278e0276df7",
   "metadata": {},
   "source": [
    "<h1>22.What is the average number of vehicles by severity?</h1>"
   ]
  },
  {
   "cell_type": "code",
   "execution_count": 83,
   "id": "0654de7a-fab7-45f4-8331-1f2de351b9e4",
   "metadata": {},
   "outputs": [
    {
     "data": {
      "image/png": "[encoded data removed]",
      "text/plain": [
       "<Figure size 640x480 with 1 Axes>"
      ]
     },
     "metadata": {},
     "output_type": "display_data"
    }
   ],
   "source": [
    "df.groupby('Accident_Severity')['Number_of_Vehicles'].mean().plot(kind='bar')\n",
    "plt.title(\"Avg Vehicles per Accident Severity\")\n",
    "plt.ylabel(\"Avg Vehicles\")\n",
    "plt.show()\n"
   ]
  },
  {
   "cell_type": "markdown",
   "id": "3cf2af06-4608-4e1f-bf63-59e1b9314aac",
   "metadata": {},
   "source": [
    "<h1>Insight shows serious/fatal accidents often involve more vehicles.</h1>"
   ]
  },
  {
   "cell_type": "markdown",
   "id": "8c6c1e53-50e6-49eb-9021-6a34e5c46a31",
   "metadata": {},
   "source": [
    "<h1>23.Which districts have the most fatal accidents?</h1>"
   ]
  },
  {
   "cell_type": "code",
   "execution_count": 84,
   "id": "7f989f45-cf18-432f-a31a-343546d84fa4",
   "metadata": {},
   "outputs": [
    {
     "data": {
      "image/png": "[encoded data removed]",
      "text/plain": [
       "<Figure size 640x480 with 1 Axes>"
      ]
     },
     "metadata": {},
     "output_type": "display_data"
    }
   ],
   "source": [
    "df[df['Accident_Severity']=='Fatal'].groupby('District Area').size().sort_values(ascending=False).head(10).plot(kind='bar')\n",
    "plt.title(\"Top Districts with Fatal Accidents\")\n",
    "plt.ylabel(\"Count of Fatal Accidents\")\n",
    "plt.show()\n"
   ]
  },
  {
   "cell_type": "markdown",
   "id": "afab1859-6ddd-4ca1-8782-971628d691fc",
   "metadata": {},
   "source": [
    "<h1> nsight shows only a few districts have fatal accident counts.</h1>"
   ]
  },
  {
   "cell_type": "code",
   "execution_count": null,
   "id": "b7d7582d-84d6-4cdd-88b3-643f0c538704",
   "metadata": {},
   "outputs": [],
   "source": []
  },
  {
   "cell_type": "markdown",
   "id": "7e315501-e39f-4c65-a013-d0401e83c009",
   "metadata": {},
   "source": [
    "<h1>24.What is the distribution of accidents for different months of the year?</h1>"
   ]
  },
  {
   "cell_type": "code",
   "execution_count": 91,
   "id": "18f5cf9b-0ffe-40b6-8677-8c86a4b429ed",
   "metadata": {},
   "outputs": [
    {
     "data": {
      "image/png": "[encoded data removed]",
      "text/plain": [
       "<Figure size 800x800 with 1 Axes>"
      ]
     },
     "metadata": {},
     "output_type": "display_data"
    }
   ],
   "source": [
    "monthly_counts = df.groupby('month').size()\n",
    "month_names = [calendar.month_name[m] for m in monthly_counts.index]\n",
    "\n",
    "plt.figure(figsize=(8, 8))\n",
    "plt.pie(monthly_counts, labels=month_names, autopct='%1.1f%%', startangle=90)\n",
    "plt.title('Accident Distribution by Month')\n",
    "plt.show()"
   ]
  },
  {
   "cell_type": "markdown",
   "id": "a38f8a38-0e44-4e17-993b-7a2ad94a6361",
   "metadata": {},
   "source": [
    "<h1> Insights shows that accidents are of course  not evenly distributed throughout the year.</h1>"
   ]
  },
  {
   "cell_type": "markdown",
   "id": "6da1fb65-fd00-45f2-8e65-469deb69f6fa",
   "metadata": {},
   "source": [
    "<h1>25.How does the average number of casualties per accident vary by month?</h1>"
   ]
  },
  {
   "cell_type": "code",
   "execution_count": 85,
   "id": "162d44bf-38b7-42fb-b7ed-1d85a1e32e39",
   "metadata": {},
   "outputs": [
    {
     "data": {
      "image/png": "[encoded data removed]",
      "text/plain": [
       "<Figure size 1000x500 with 1 Axes>"
      ]
     },
     "metadata": {},
     "output_type": "display_data"
    }
   ],
   "source": [
    "monthly_avg_casualties = df.groupby('month')['Number_of_Casualties'].mean()\n",
    "\n",
    "plt.figure(figsize=(10, 5))\n",
    "plt.plot(monthly_avg_casualties.index, monthly_avg_casualties.values, marker='o', linestyle='-')\n",
    "plt.title('Average Casualties per Month')\n",
    "plt.xlabel('Month')\n",
    "plt.ylabel('Average Number of Casualties')\n",
    "plt.grid(True)\n",
    "plt.show()"
   ]
  },
  {
   "cell_type": "markdown",
   "id": "4b21ca29-3e23-4d57-a0b0-051153b615b0",
   "metadata": {},
   "source": [
    "<h1>nsight shows that average casualties per accident peak in specific months (december) i think</h1>"
   ]
  },
  {
   "cell_type": "markdown",
   "id": "51913e77-dbb6-4b8c-b511-17438f0f8af0",
   "metadata": {},
   "source": [
    "<h2>IM FINALLY DONE...........or so I thought</h2>"
   ]
  },
  {
   "cell_type": "markdown",
   "id": "4bf4d6fe-4d3c-43de-9003-65325e758031",
   "metadata": {},
   "source": [
    "<h1>26.Which road type (single carriageway, dual carriageway, etc.) has the highest number of serious accidents?</h1>"
   ]
  },
  {
   "cell_type": "code",
   "execution_count": 92,
   "id": "e25ed544-2ab0-4b47-b6ff-31129ac17321",
   "metadata": {},
   "outputs": [
    {
     "data": {
      "text/plain": [
       "Road_Type\n",
       "Single carriageway    70059\n",
       "Dual carriageway      11746\n",
       "Roundabout             3665\n",
       "One way street         1655\n",
       "Slip road               611\n",
       "dtype: int64"
      ]
     },
     "execution_count": 92,
     "metadata": {},
     "output_type": "execute_result"
    }
   ],
   "source": [
    "df[df['Accident_Severity'] == 'Serious'].groupby('Road_Type').size().sort_values(ascending=False)"
   ]
  },
  {
   "cell_type": "markdown",
   "id": "044a49ca-392b-41b9-bc6e-7c0b671e26cc",
   "metadata": {},
   "source": [
    "<h1>Insights shows its single carriegeway by a lot too </h1>"
   ]
  },
  {
   "cell_type": "markdown",
   "id": "635d5690-8e77-4729-8a1c-c09623e7d327",
   "metadata": {},
   "source": [
    "<H1>27.How do different weather conditions affect the number of casualties?</H1>"
   ]
  },
  {
   "cell_type": "code",
   "execution_count": 94,
   "id": "8f5ea831-9109-4ae7-8c2d-7a1fef24131a",
   "metadata": {},
   "outputs": [
    {
     "data": {
      "text/plain": [
       "Weather_Conditions\n",
       "Fog or mist              1.452948\n",
       "Snowing + high winds     1.418079\n",
       "Raining + high winds     1.416641\n",
       "Raining no high winds    1.408214\n",
       "Fine + high winds        1.386018\n",
       "Other                    1.354869\n",
       "Fine no high winds       1.350480\n",
       "Snowing no high winds    1.341776\n",
       "Name: Number_of_Casualties, dtype: float64"
      ]
     },
     "execution_count": 94,
     "metadata": {},
     "output_type": "execute_result"
    }
   ],
   "source": [
    "df.groupby('Weather_Conditions')['Number_of_Casualties'].mean().sort_values(ascending=False)"
   ]
  },
  {
   "cell_type": "markdown",
   "id": "83e46a73-0a08-47c9-b2a5-cdbbafe0a0e5",
   "metadata": {},
   "source": [
    "<h1>insights shows that casualties increase in wet or snowy weather compared to clear conditions which is obvious</h1>"
   ]
  },
  {
   "cell_type": "markdown",
   "id": "97f1fba4-0426-4089-a7ce-a1b6f4fac084",
   "metadata": {},
   "source": [
    "<H1>28.Which vehicle types are most often involved in accidents with multiple casualties?</H1>"
   ]
  },
  {
   "cell_type": "code",
   "execution_count": 95,
   "id": "7faac243-5cd0-4435-bcef-5d594e5a9329",
   "metadata": {},
   "outputs": [
    {
     "data": {
      "text/plain": [
       "Vehicle_Type\n",
       "Data missing or out of range             1.500000\n",
       "Pedal cycle                              1.370558\n",
       "Taxi/Private hire car                    1.368663\n",
       "Goods over 3.5t. and under 7.5t          1.362861\n",
       "Motorcycle over 500cc                    1.359434\n",
       "Car                                      1.358841\n",
       "Van / Goods 3.5 tonnes mgw or under      1.354537\n",
       "Goods 7.5 tonnes mgw and over            1.351881\n",
       "Bus or coach (17 or more pass seats)     1.349216\n",
       "Minibus (8 - 16 passenger seats)         1.345648\n",
       "Motorcycle over 125cc and up to 500cc    1.343521\n",
       "Agricultural vehicle                     1.342065\n",
       "Other vehicle                            1.340075\n",
       "Motorcycle 50cc and under                1.337235\n",
       "Motorcycle 125cc and under               1.332635\n",
       "Ridden horse                             1.250000\n",
       "Name: Number_of_Casualties, dtype: float64"
      ]
     },
     "execution_count": 95,
     "metadata": {},
     "output_type": "execute_result"
    }
   ],
   "source": [
    "df.groupby('Vehicle_Type')['Number_of_Casualties'].mean().sort_values(ascending=False)\n"
   ]
  },
  {
   "cell_type": "markdown",
   "id": "13a530b5-e215-4014-a3ae-f1cf727b0057",
   "metadata": {},
   "source": [
    "<h1>insights shows that Cars cause most accidents, talk about kamotes</h1>"
   ]
  },
  {
   "cell_type": "markdown",
   "id": "9cf9d540-5659-408a-a083-cb7a2670ab1d",
   "metadata": {},
   "source": [
    "<H1>29.Are accidents in darkness (with/without lights) more likely to be fatal/serious compared to daylight crashes?</H1>"
   ]
  },
  {
   "cell_type": "code",
   "execution_count": 97,
   "id": "4d24be97-d602-4725-b914-6c320a523927",
   "metadata": {},
   "outputs": [
    {
     "data": {
      "text/html": [
       "<div>\n",
       "<style scoped>\n",
       "    .dataframe tbody tr th:only-of-type {\n",
       "        vertical-align: middle;\n",
       "    }\n",
       "\n",
       "    .dataframe tbody tr th {\n",
       "        vertical-align: top;\n",
       "    }\n",
       "\n",
       "    .dataframe thead th {\n",
       "        text-align: right;\n",
       "    }\n",
       "</style>\n",
       "<table border=\"1\" class=\"dataframe\">\n",
       "  <thead>\n",
       "    <tr style=\"text-align: right;\">\n",
       "      <th>Accident_Severity</th>\n",
       "      <th>Fatal</th>\n",
       "      <th>Serious</th>\n",
       "      <th>Slight</th>\n",
       "    </tr>\n",
       "    <tr>\n",
       "      <th>Light_Conditions</th>\n",
       "      <th></th>\n",
       "      <th></th>\n",
       "      <th></th>\n",
       "    </tr>\n",
       "  </thead>\n",
       "  <tbody>\n",
       "    <tr>\n",
       "      <th>Darkness - lighting unknown</th>\n",
       "      <td>68</td>\n",
       "      <td>794</td>\n",
       "      <td>5622</td>\n",
       "    </tr>\n",
       "    <tr>\n",
       "      <th>Darkness - lights lit</th>\n",
       "      <td>1860</td>\n",
       "      <td>19130</td>\n",
       "      <td>108345</td>\n",
       "    </tr>\n",
       "    <tr>\n",
       "      <th>Darkness - lights unlit</th>\n",
       "      <td>45</td>\n",
       "      <td>360</td>\n",
       "      <td>2138</td>\n",
       "    </tr>\n",
       "    <tr>\n",
       "      <th>Darkness - no lighting</th>\n",
       "      <td>1612</td>\n",
       "      <td>7174</td>\n",
       "      <td>28651</td>\n",
       "    </tr>\n",
       "    <tr>\n",
       "      <th>Daylight</th>\n",
       "      <td>5076</td>\n",
       "      <td>60759</td>\n",
       "      <td>419045</td>\n",
       "    </tr>\n",
       "  </tbody>\n",
       "</table>\n",
       "</div>"
      ],
      "text/plain": [
       "Accident_Severity            Fatal  Serious  Slight\n",
       "Light_Conditions                                   \n",
       "Darkness - lighting unknown     68      794    5622\n",
       "Darkness - lights lit         1860    19130  108345\n",
       "Darkness - lights unlit         45      360    2138\n",
       "Darkness - no lighting        1612     7174   28651\n",
       "Daylight                      5076    60759  419045"
      ]
     },
     "execution_count": 97,
     "metadata": {},
     "output_type": "execute_result"
    }
   ],
   "source": [
    "df.groupby(['Light_Conditions', 'Accident_Severity']).size().unstack(fill_value=0)"
   ]
  },
  {
   "cell_type": "markdown",
   "id": "42773596-2598-44ca-a091-614dede8b732",
   "metadata": {},
   "source": [
    "<h1>insights shows that darkness increases accident severity compared to daylight.</h1>"
   ]
  },
  {
   "cell_type": "markdown",
   "id": "dcca9e22-08a9-4ee7-827c-3e5be69f0ce7",
   "metadata": {},
   "source": [
    "<H1>30.Is there a relationship between the number of vehicles involved and the number of casualties?</H1>"
   ]
  },
  {
   "cell_type": "code",
   "execution_count": 98,
   "id": "debd7f09-fcbc-4505-be8f-11ef9bbbbabb",
   "metadata": {},
   "outputs": [
    {
     "data": {
      "text/plain": [
       "Number_of_Vehicles\n",
       "1      1.170932\n",
       "2      1.374880\n",
       "3      1.711169\n",
       "4      1.995575\n",
       "5      2.315341\n",
       "6      2.612137\n",
       "7      3.064189\n",
       "8      3.401361\n",
       "9      3.350877\n",
       "10     3.629630\n",
       "11     4.000000\n",
       "12     2.285714\n",
       "13     7.833333\n",
       "14     5.444444\n",
       "15     5.000000\n",
       "16     6.000000\n",
       "19    13.000000\n",
       "28    16.000000\n",
       "32     5.000000\n",
       "Name: Number_of_Casualties, dtype: float64"
      ]
     },
     "execution_count": 98,
     "metadata": {},
     "output_type": "execute_result"
    }
   ],
   "source": [
    "df.groupby('Number_of_Vehicles')['Number_of_Casualties'].mean()\n"
   ]
  },
  {
   "cell_type": "markdown",
   "id": "fcaeabcc-0d83-4660-9d43-fb0d038fb2b7",
   "metadata": {},
   "source": [
    "<h1> More vehicles involved usually means higher casualties obviously</h1>"
   ]
  },
  {
   "cell_type": "code",
   "execution_count": null,
   "id": "51bd2b50-3f76-499d-a976-f7b421c0e9ed",
   "metadata": {},
   "outputs": [],
   "source": []
  },
  {
   "cell_type": "markdown",
   "id": "f7ad2523-da96-466c-976a-d1fe69373340",
   "metadata": {},
   "source": [
    "<H1>31.Do slippery road surfaces (wet, icy) lead to more serious accidents?</H1>"
   ]
  },
  {
   "cell_type": "code",
   "execution_count": 99,
   "id": "1fb0c6e3-5d81-47a6-b589-cfdefd9f0153",
   "metadata": {},
   "outputs": [
    {
     "data": {
      "text/html": [
       "<div>\n",
       "<style scoped>\n",
       "    .dataframe tbody tr th:only-of-type {\n",
       "        vertical-align: middle;\n",
       "    }\n",
       "\n",
       "    .dataframe tbody tr th {\n",
       "        vertical-align: top;\n",
       "    }\n",
       "\n",
       "    .dataframe thead th {\n",
       "        text-align: right;\n",
       "    }\n",
       "</style>\n",
       "<table border=\"1\" class=\"dataframe\">\n",
       "  <thead>\n",
       "    <tr style=\"text-align: right;\">\n",
       "      <th>Accident_Severity</th>\n",
       "      <th>Fatal</th>\n",
       "      <th>Serious</th>\n",
       "      <th>Slight</th>\n",
       "    </tr>\n",
       "    <tr>\n",
       "      <th>Road_Surface_Conditions</th>\n",
       "      <th></th>\n",
       "      <th></th>\n",
       "      <th></th>\n",
       "    </tr>\n",
       "  </thead>\n",
       "  <tbody>\n",
       "    <tr>\n",
       "      <th>Dry</th>\n",
       "      <td>5788</td>\n",
       "      <td>61638</td>\n",
       "      <td>380395</td>\n",
       "    </tr>\n",
       "    <tr>\n",
       "      <th>Flood over 3cm. deep</th>\n",
       "      <td>23</td>\n",
       "      <td>152</td>\n",
       "      <td>842</td>\n",
       "    </tr>\n",
       "    <tr>\n",
       "      <th>Frost or ice</th>\n",
       "      <td>193</td>\n",
       "      <td>2007</td>\n",
       "      <td>16317</td>\n",
       "    </tr>\n",
       "    <tr>\n",
       "      <th>Snow</th>\n",
       "      <td>35</td>\n",
       "      <td>565</td>\n",
       "      <td>5290</td>\n",
       "    </tr>\n",
       "    <tr>\n",
       "      <th>Wet or damp</th>\n",
       "      <td>2620</td>\n",
       "      <td>23785</td>\n",
       "      <td>160303</td>\n",
       "    </tr>\n",
       "  </tbody>\n",
       "</table>\n",
       "</div>"
      ],
      "text/plain": [
       "Accident_Severity        Fatal  Serious  Slight\n",
       "Road_Surface_Conditions                        \n",
       "Dry                       5788    61638  380395\n",
       "Flood over 3cm. deep        23      152     842\n",
       "Frost or ice               193     2007   16317\n",
       "Snow                        35      565    5290\n",
       "Wet or damp               2620    23785  160303"
      ]
     },
     "execution_count": 99,
     "metadata": {},
     "output_type": "execute_result"
    }
   ],
   "source": [
    "df.groupby(['Road_Surface_Conditions', 'Accident_Severity']).size().unstack(fill_value=0)\n"
   ]
  },
  {
   "cell_type": "markdown",
   "id": "0d39454e-5a2c-4e45-83d8-42e33eee2802",
   "metadata": {},
   "source": [
    "<h1>insights shows that of course it does</h1>"
   ]
  },
  {
   "cell_type": "code",
   "execution_count": null,
   "id": "88b43095-c0ae-47f4-8521-1b18f782c6da",
   "metadata": {},
   "outputs": [],
   "source": []
  }
 ],
 "metadata": {
  "kernelspec": {
   "display_name": "Python 3 (ipykernel)",
   "language": "python",
   "name": "python3"
  },
  "language_info": {
   "codemirror_mode": {
    "name": "ipython",
    "version": 3
   },
   "file_extension": ".py",
   "mimetype": "text/x-python",
   "name": "python",
   "nbconvert_exporter": "python",
   "pygments_lexer": "ipython3",
   "version": "3.11.9"
  }
 },
 "nbformat": 4,
 "nbformat_minor": 5
}
