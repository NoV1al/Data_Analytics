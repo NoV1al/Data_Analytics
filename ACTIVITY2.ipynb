{
 "cells": [
  {
   "cell_type": "code",
   "execution_count": 1,
   "id": "f35c3b0e-aa3f-4be1-add7-1f9eda6a7707",
   "metadata": {},
   "outputs": [],
   "source": [
    "import numpy as np\n",
    "import pandas as pd\n",
    "import warnings\n",
    "warnings.filterwarnings('ignore')\n",
    "\n"
   ]
  },
  {
   "cell_type": "code",
   "execution_count": 2,
   "id": "d9fae7ea-43fa-4e12-91d7-0d8565863737",
   "metadata": {},
   "outputs": [],
   "source": [
    "df = pd.read_csv ('Dataset//uk_accident_data.csv')\n"
   ]
  },
  {
   "cell_type": "code",
   "execution_count": 3,
   "id": "5947561d-03bb-4f1e-88f0-b437ef71e398",
   "metadata": {},
   "outputs": [
    {
     "data": {
      "text/html": [
       "<div>\n",
       "<style scoped>\n",
       "    .dataframe tbody tr th:only-of-type {\n",
       "        vertical-align: middle;\n",
       "    }\n",
       "\n",
       "    .dataframe tbody tr th {\n",
       "        vertical-align: top;\n",
       "    }\n",
       "\n",
       "    .dataframe thead th {\n",
       "        text-align: right;\n",
       "    }\n",
       "</style>\n",
       "<table border=\"1\" class=\"dataframe\">\n",
       "  <thead>\n",
       "    <tr style=\"text-align: right;\">\n",
       "      <th></th>\n",
       "      <th>Index</th>\n",
       "      <th>Accident_Severity</th>\n",
       "      <th>Accident Date</th>\n",
       "      <th>Latitude</th>\n",
       "      <th>Light_Conditions</th>\n",
       "      <th>District Area</th>\n",
       "      <th>Longitude</th>\n",
       "      <th>Number_of_Casualties</th>\n",
       "      <th>Number_of_Vehicles</th>\n",
       "      <th>Road_Surface_Conditions</th>\n",
       "      <th>Road_Type</th>\n",
       "      <th>Urban_or_Rural_Area</th>\n",
       "      <th>Weather_Conditions</th>\n",
       "      <th>Vehicle_Type</th>\n",
       "    </tr>\n",
       "  </thead>\n",
       "  <tbody>\n",
       "    <tr>\n",
       "      <th>0</th>\n",
       "      <td>200701BS64157</td>\n",
       "      <td>Serious</td>\n",
       "      <td>05/06/2019</td>\n",
       "      <td>51.506187</td>\n",
       "      <td>Darkness - lights lit</td>\n",
       "      <td>Kensington and Chelsea</td>\n",
       "      <td>-0.209082</td>\n",
       "      <td>1</td>\n",
       "      <td>2</td>\n",
       "      <td>Dry</td>\n",
       "      <td>Single carriageway</td>\n",
       "      <td>Urban</td>\n",
       "      <td>Fine no high winds</td>\n",
       "      <td>Car</td>\n",
       "    </tr>\n",
       "    <tr>\n",
       "      <th>1</th>\n",
       "      <td>200701BS65737</td>\n",
       "      <td>Serious</td>\n",
       "      <td>02/07/2019</td>\n",
       "      <td>51.495029</td>\n",
       "      <td>Daylight</td>\n",
       "      <td>Kensington and Chelsea</td>\n",
       "      <td>-0.173647</td>\n",
       "      <td>1</td>\n",
       "      <td>2</td>\n",
       "      <td>Wet or damp</td>\n",
       "      <td>Single carriageway</td>\n",
       "      <td>Urban</td>\n",
       "      <td>Raining no high winds</td>\n",
       "      <td>Car</td>\n",
       "    </tr>\n",
       "    <tr>\n",
       "      <th>2</th>\n",
       "      <td>200701BS66127</td>\n",
       "      <td>Serious</td>\n",
       "      <td>26/08/2019</td>\n",
       "      <td>51.517715</td>\n",
       "      <td>Darkness - lighting unknown</td>\n",
       "      <td>Kensington and Chelsea</td>\n",
       "      <td>-0.210215</td>\n",
       "      <td>1</td>\n",
       "      <td>3</td>\n",
       "      <td>Dry</td>\n",
       "      <td>NaN</td>\n",
       "      <td>Urban</td>\n",
       "      <td>NaN</td>\n",
       "      <td>Taxi/Private hire car</td>\n",
       "    </tr>\n",
       "    <tr>\n",
       "      <th>3</th>\n",
       "      <td>200701BS66128</td>\n",
       "      <td>Serious</td>\n",
       "      <td>16/08/2019</td>\n",
       "      <td>51.495478</td>\n",
       "      <td>Daylight</td>\n",
       "      <td>Kensington and Chelsea</td>\n",
       "      <td>-0.202731</td>\n",
       "      <td>1</td>\n",
       "      <td>4</td>\n",
       "      <td>Dry</td>\n",
       "      <td>Single carriageway</td>\n",
       "      <td>Urban</td>\n",
       "      <td>Fine no high winds</td>\n",
       "      <td>Bus or coach (17 or more pass seats)</td>\n",
       "    </tr>\n",
       "    <tr>\n",
       "      <th>4</th>\n",
       "      <td>200701BS66837</td>\n",
       "      <td>Slight</td>\n",
       "      <td>03/09/2019</td>\n",
       "      <td>51.488576</td>\n",
       "      <td>Darkness - lights lit</td>\n",
       "      <td>Kensington and Chelsea</td>\n",
       "      <td>-0.192487</td>\n",
       "      <td>1</td>\n",
       "      <td>2</td>\n",
       "      <td>Dry</td>\n",
       "      <td>NaN</td>\n",
       "      <td>Urban</td>\n",
       "      <td>NaN</td>\n",
       "      <td>Other vehicle</td>\n",
       "    </tr>\n",
       "    <tr>\n",
       "      <th>...</th>\n",
       "      <td>...</td>\n",
       "      <td>...</td>\n",
       "      <td>...</td>\n",
       "      <td>...</td>\n",
       "      <td>...</td>\n",
       "      <td>...</td>\n",
       "      <td>...</td>\n",
       "      <td>...</td>\n",
       "      <td>...</td>\n",
       "      <td>...</td>\n",
       "      <td>...</td>\n",
       "      <td>...</td>\n",
       "      <td>...</td>\n",
       "      <td>...</td>\n",
       "    </tr>\n",
       "    <tr>\n",
       "      <th>660674</th>\n",
       "      <td>201091NM01760</td>\n",
       "      <td>Slight</td>\n",
       "      <td>18/02/2022</td>\n",
       "      <td>57.374005</td>\n",
       "      <td>Daylight</td>\n",
       "      <td>Highland</td>\n",
       "      <td>-3.467828</td>\n",
       "      <td>2</td>\n",
       "      <td>1</td>\n",
       "      <td>Dry</td>\n",
       "      <td>Single carriageway</td>\n",
       "      <td>Rural</td>\n",
       "      <td>Fine no high winds</td>\n",
       "      <td>Car</td>\n",
       "    </tr>\n",
       "    <tr>\n",
       "      <th>660675</th>\n",
       "      <td>201091NM01881</td>\n",
       "      <td>Slight</td>\n",
       "      <td>21/02/2022</td>\n",
       "      <td>57.232273</td>\n",
       "      <td>Darkness - no lighting</td>\n",
       "      <td>Highland</td>\n",
       "      <td>-3.809281</td>\n",
       "      <td>1</td>\n",
       "      <td>1</td>\n",
       "      <td>Frost or ice</td>\n",
       "      <td>Single carriageway</td>\n",
       "      <td>Rural</td>\n",
       "      <td>Fine no high winds</td>\n",
       "      <td>Car</td>\n",
       "    </tr>\n",
       "    <tr>\n",
       "      <th>660676</th>\n",
       "      <td>201091NM01935</td>\n",
       "      <td>Slight</td>\n",
       "      <td>23/02/2022</td>\n",
       "      <td>57.585044</td>\n",
       "      <td>Daylight</td>\n",
       "      <td>Highland</td>\n",
       "      <td>-3.862727</td>\n",
       "      <td>1</td>\n",
       "      <td>3</td>\n",
       "      <td>Frost or ice</td>\n",
       "      <td>Single carriageway</td>\n",
       "      <td>Rural</td>\n",
       "      <td>Fine no high winds</td>\n",
       "      <td>Car</td>\n",
       "    </tr>\n",
       "    <tr>\n",
       "      <th>660677</th>\n",
       "      <td>201091NM01964</td>\n",
       "      <td>Serious</td>\n",
       "      <td>23/02/2022</td>\n",
       "      <td>57.214898</td>\n",
       "      <td>Darkness - no lighting</td>\n",
       "      <td>Highland</td>\n",
       "      <td>-3.823997</td>\n",
       "      <td>1</td>\n",
       "      <td>2</td>\n",
       "      <td>Wet or damp</td>\n",
       "      <td>Single carriageway</td>\n",
       "      <td>Rural</td>\n",
       "      <td>Fine no high winds</td>\n",
       "      <td>Motorcycle over 500cc</td>\n",
       "    </tr>\n",
       "    <tr>\n",
       "      <th>660678</th>\n",
       "      <td>201091NM02142</td>\n",
       "      <td>Serious</td>\n",
       "      <td>28/02/2022</td>\n",
       "      <td>57.575210</td>\n",
       "      <td>Daylight</td>\n",
       "      <td>Highland</td>\n",
       "      <td>-3.895673</td>\n",
       "      <td>1</td>\n",
       "      <td>1</td>\n",
       "      <td>Wet or damp</td>\n",
       "      <td>Dual carriageway</td>\n",
       "      <td>Rural</td>\n",
       "      <td>Snowing no high winds</td>\n",
       "      <td>Car</td>\n",
       "    </tr>\n",
       "  </tbody>\n",
       "</table>\n",
       "<p>660679 rows × 14 columns</p>\n",
       "</div>"
      ],
      "text/plain": [
       "                Index Accident_Severity Accident Date   Latitude  \\\n",
       "0       200701BS64157           Serious    05/06/2019  51.506187   \n",
       "1       200701BS65737           Serious    02/07/2019  51.495029   \n",
       "2       200701BS66127           Serious    26/08/2019  51.517715   \n",
       "3       200701BS66128           Serious    16/08/2019  51.495478   \n",
       "4       200701BS66837            Slight    03/09/2019  51.488576   \n",
       "...               ...               ...           ...        ...   \n",
       "660674  201091NM01760            Slight    18/02/2022  57.374005   \n",
       "660675  201091NM01881            Slight    21/02/2022  57.232273   \n",
       "660676  201091NM01935            Slight    23/02/2022  57.585044   \n",
       "660677  201091NM01964           Serious    23/02/2022  57.214898   \n",
       "660678  201091NM02142           Serious    28/02/2022  57.575210   \n",
       "\n",
       "                   Light_Conditions           District Area  Longitude  \\\n",
       "0             Darkness - lights lit  Kensington and Chelsea  -0.209082   \n",
       "1                          Daylight  Kensington and Chelsea  -0.173647   \n",
       "2       Darkness - lighting unknown  Kensington and Chelsea  -0.210215   \n",
       "3                          Daylight  Kensington and Chelsea  -0.202731   \n",
       "4             Darkness - lights lit  Kensington and Chelsea  -0.192487   \n",
       "...                             ...                     ...        ...   \n",
       "660674                     Daylight                Highland  -3.467828   \n",
       "660675       Darkness - no lighting                Highland  -3.809281   \n",
       "660676                     Daylight                Highland  -3.862727   \n",
       "660677       Darkness - no lighting                Highland  -3.823997   \n",
       "660678                     Daylight                Highland  -3.895673   \n",
       "\n",
       "        Number_of_Casualties  Number_of_Vehicles Road_Surface_Conditions  \\\n",
       "0                          1                   2                     Dry   \n",
       "1                          1                   2             Wet or damp   \n",
       "2                          1                   3                     Dry   \n",
       "3                          1                   4                     Dry   \n",
       "4                          1                   2                     Dry   \n",
       "...                      ...                 ...                     ...   \n",
       "660674                     2                   1                     Dry   \n",
       "660675                     1                   1            Frost or ice   \n",
       "660676                     1                   3            Frost or ice   \n",
       "660677                     1                   2             Wet or damp   \n",
       "660678                     1                   1             Wet or damp   \n",
       "\n",
       "                 Road_Type Urban_or_Rural_Area     Weather_Conditions  \\\n",
       "0       Single carriageway               Urban     Fine no high winds   \n",
       "1       Single carriageway               Urban  Raining no high winds   \n",
       "2                      NaN               Urban                    NaN   \n",
       "3       Single carriageway               Urban     Fine no high winds   \n",
       "4                      NaN               Urban                    NaN   \n",
       "...                    ...                 ...                    ...   \n",
       "660674  Single carriageway               Rural     Fine no high winds   \n",
       "660675  Single carriageway               Rural     Fine no high winds   \n",
       "660676  Single carriageway               Rural     Fine no high winds   \n",
       "660677  Single carriageway               Rural     Fine no high winds   \n",
       "660678    Dual carriageway               Rural  Snowing no high winds   \n",
       "\n",
       "                                Vehicle_Type  \n",
       "0                                        Car  \n",
       "1                                        Car  \n",
       "2                      Taxi/Private hire car  \n",
       "3       Bus or coach (17 or more pass seats)  \n",
       "4                              Other vehicle  \n",
       "...                                      ...  \n",
       "660674                                   Car  \n",
       "660675                                   Car  \n",
       "660676                                   Car  \n",
       "660677                 Motorcycle over 500cc  \n",
       "660678                                   Car  \n",
       "\n",
       "[660679 rows x 14 columns]"
      ]
     },
     "execution_count": 3,
     "metadata": {},
     "output_type": "execute_result"
    }
   ],
   "source": [
    "df\n"
   ]
  },
  {
   "cell_type": "markdown",
   "id": "db479603-37d7-4848-a7ad-48efdaab9a9b",
   "metadata": {},
   "source": [
    "<h1>1. How many total accidents are recorded in the dataset?</h1>"
   ]
  },
  {
   "cell_type": "code",
   "execution_count": 4,
   "id": "9ac70678-c105-403d-9726-c21d2e69107f",
   "metadata": {},
   "outputs": [
    {
     "data": {
      "text/plain": [
       "660679"
      ]
     },
     "execution_count": 4,
     "metadata": {},
     "output_type": "execute_result"
    }
   ],
   "source": [
    "df.shape[0]\n"
   ]
  },
  {
   "cell_type": "markdown",
   "id": "6f09f38f-59a5-4776-b9b5-284ef1950c65",
   "metadata": {},
   "source": [
    "<h1>Insight shows The dataset contains 660,679 accidents.</h1>"
   ]
  },
  {
   "cell_type": "markdown",
   "id": "ce529fb7-3417-4370-9356-bccbffa90288",
   "metadata": {},
   "source": [
    "<h1>2. How many accidents were classified as Fatal?</h1>"
   ]
  },
  {
   "cell_type": "code",
   "execution_count": 5,
   "id": "cd73084e-ee57-4d1c-bab8-0d7f786fb2b1",
   "metadata": {},
   "outputs": [
    {
     "data": {
      "text/plain": [
       "np.int64(8661)"
      ]
     },
     "execution_count": 5,
     "metadata": {},
     "output_type": "execute_result"
    }
   ],
   "source": [
    "(df['Accident_Severity'] == 'Fatal').sum()\n"
   ]
  },
  {
   "cell_type": "markdown",
   "id": "b1bb134e-1cda-4a4f-8933-857e821d687c",
   "metadata": {},
   "source": [
    "<h1>Insight shows the number of Fatal accidents </h1>"
   ]
  },
  {
   "cell_type": "markdown",
   "id": "a11f084c-07ae-4281-bf8b-7c8b929f137d",
   "metadata": {},
   "source": [
    "<h1>3. Which district has the highest average casualties per accident?</h1>"
   ]
  },
  {
   "cell_type": "code",
   "execution_count": 9,
   "id": "a50f1bc9-cca9-457e-8988-7c230f280800",
   "metadata": {},
   "outputs": [
    {
     "data": {
      "text/plain": [
       "'Blaeu Gwent'"
      ]
     },
     "execution_count": 9,
     "metadata": {},
     "output_type": "execute_result"
    }
   ],
   "source": [
    "df.groupby('District Area')['Number_of_Casualties'].mean().idxmax()\n"
   ]
  },
  {
   "cell_type": "markdown",
   "id": "320d876e-4f42-425d-9265-d90f70794322",
   "metadata": {},
   "source": [
    "<h1>Insights shows its blaeu gwent</h1>"
   ]
  },
  {
   "cell_type": "markdown",
   "id": "48732514-94c7-4dae-b0f6-d95ffac96198",
   "metadata": {},
   "source": [
    "<h1>4.Is it more dangerous to drive at night?</h1>"
   ]
  },
  {
   "cell_type": "code",
   "execution_count": 14,
   "id": "0448b0fe-0720-4d7e-976a-9db5b138076e",
   "metadata": {},
   "outputs": [
    {
     "data": {
      "text/plain": [
       "np.float64(0.41392448908901974)"
      ]
     },
     "execution_count": 14,
     "metadata": {},
     "output_type": "execute_result"
    }
   ],
   "source": [
    "(df[df['Accident_Severity']=='Fatal']['Light_Conditions']\n",
    "   .str.contains('Dark', na=False)\n",
    "   .mean())\n"
   ]
  },
  {
   "cell_type": "markdown",
   "id": "6b8bf3f0-1d6a-4130-84c6-9d199f75b8cb",
   "metadata": {},
   "source": [
    "<h1>insights shows that OF COURSE ITS DANGEROUS TO DRIVE AT NIGHT</h1>"
   ]
  },
  {
   "cell_type": "markdown",
   "id": "cae2afd4-fde8-45ba-aee8-afdc9c8c7e34",
   "metadata": {},
   "source": [
    "<h1>5. What percentage of accidents were Fatal?</h1>"
   ]
  },
  {
   "cell_type": "code",
   "execution_count": 15,
   "id": "d4c7ff52-7b05-4c4e-b77d-fc91279f8ab0",
   "metadata": {},
   "outputs": [
    {
     "data": {
      "text/plain": [
       "Accident_Severity\n",
       "Slight     85.34\n",
       "Serious    13.35\n",
       "Fatal       1.31\n",
       "Name: proportion, dtype: float64"
      ]
     },
     "execution_count": 15,
     "metadata": {},
     "output_type": "execute_result"
    }
   ],
   "source": [
    "(df['Accident_Severity'].value_counts(normalize=True) * 100).round(2)\n"
   ]
  },
  {
   "cell_type": "markdown",
   "id": "ffaba76d-997d-4d39-b10f-0bbb493b5439",
   "metadata": {},
   "source": [
    "<h1>Insights shows its 1.30 or sumthing</h1>"
   ]
  },
  {
   "cell_type": "markdown",
   "id": "ce2ba231-05d8-4857-92bb-9d915133a933",
   "metadata": {},
   "source": [
    "<h1>6. Which district has the most accidents recorded?</h1>"
   ]
  },
  {
   "cell_type": "code",
   "execution_count": 17,
   "id": "a21cce71-914d-4a99-8a2f-d60ce76db9c7",
   "metadata": {},
   "outputs": [
    {
     "data": {
      "text/plain": [
       "'Birmingham'"
      ]
     },
     "execution_count": 17,
     "metadata": {},
     "output_type": "execute_result"
    }
   ],
   "source": [
    "df['District Area'].value_counts().idxmax()\n"
   ]
  },
  {
   "cell_type": "markdown",
   "id": "679ea7cc-94d9-4939-ae4c-772cffd0df3b",
   "metadata": {},
   "source": [
    "<H1>i dont know about you but i can clearly see the insight in here</H1>"
   ]
  },
  {
   "cell_type": "markdown",
   "id": "577fd4a0-94d5-46a6-942b-bcee75b9de19",
   "metadata": {},
   "source": [
    "<h1>7. How many accidents occurred during Daylight vs Darkness?</h1>"
   ]
  },
  {
   "cell_type": "code",
   "execution_count": 18,
   "id": "c04f0e22-4c63-486c-9197-9d8094cc5358",
   "metadata": {},
   "outputs": [
    {
     "data": {
      "text/plain": [
       "Light_Conditions\n",
       "Daylight                       484880\n",
       "Darkness - lights lit          129335\n",
       "Darkness - no lighting          37437\n",
       "Darkness - lighting unknown      6484\n",
       "Darkness - lights unlit          2543\n",
       "Name: count, dtype: int64"
      ]
     },
     "execution_count": 18,
     "metadata": {},
     "output_type": "execute_result"
    }
   ],
   "source": [
    "df['Light_Conditions'].value_counts()\n"
   ]
  },
  {
   "cell_type": "markdown",
   "id": "4dba109f-c3a3-40e0-addb-662049087f94",
   "metadata": {},
   "source": [
    "<h1>Insights shows the stark difference between day and night accidnets</h1>"
   ]
  },
  {
   "cell_type": "markdown",
   "id": "5630e57d-3aa7-4e14-9922-115489df4da2",
   "metadata": {},
   "source": [
    "<h1>8. What’s the most common weather condition during accidents?</h1>"
   ]
  },
  {
   "cell_type": "code",
   "execution_count": 19,
   "id": "60274e9f-d41b-4859-a5c3-3206abde0a1f",
   "metadata": {},
   "outputs": [
    {
     "data": {
      "text/plain": [
       "'Fine no high winds'"
      ]
     },
     "execution_count": 19,
     "metadata": {},
     "output_type": "execute_result"
    }
   ],
   "source": [
    "df['Weather_Conditions'].mode()[0]\n"
   ]
  },
  {
   "cell_type": "markdown",
   "id": "78659f80-e0dc-49d0-a12c-ffa178e86ca7",
   "metadata": {},
   "source": [
    "<h1>Insights shows that people get complecent and get into more accidnets if the weather is good</h1>"
   ]
  },
  {
   "cell_type": "markdown",
   "id": "1a22121d-7d46-4c1e-a332-67cc6d5a854a",
   "metadata": {},
   "source": [
    "<H1>9. How many accidents occurred in Urban vs Rural areas?</H1>"
   ]
  },
  {
   "cell_type": "code",
   "execution_count": 20,
   "id": "02dc05e5-0cb0-4b5f-9592-7ad7f91af57a",
   "metadata": {},
   "outputs": [
    {
     "data": {
      "text/plain": [
       "Urban_or_Rural_Area\n",
       "Urban          421663\n",
       "Rural          238990\n",
       "Unallocated        11\n",
       "Name: count, dtype: int64"
      ]
     },
     "execution_count": 20,
     "metadata": {},
     "output_type": "execute_result"
    }
   ],
   "source": [
    "df['Urban_or_Rural_Area'].value_counts()\n"
   ]
  },
  {
   "cell_type": "markdown",
   "id": "0eb5a119-4ef6-4a5f-87a1-05c11b72f9ec",
   "metadata": {},
   "source": [
    "<H1>Insights shows that urban areas have more accidents</H1>"
   ]
  },
  {
   "cell_type": "markdown",
   "id": "7d6e5cc1-9852-4e0b-b1ed-698bc83f7a45",
   "metadata": {},
   "source": [
    "<h1>10. What is the maximum number of vehicles involved in a single accident?</h1>"
   ]
  },
  {
   "cell_type": "code",
   "execution_count": 21,
   "id": "ffe51d32-cf3a-460b-b6b8-63785c3b132f",
   "metadata": {},
   "outputs": [
    {
     "data": {
      "text/plain": [
       "np.int64(32)"
      ]
     },
     "execution_count": 21,
     "metadata": {},
     "output_type": "execute_result"
    }
   ],
   "source": [
    "df['Number_of_Vehicles'].max()\n"
   ]
  },
  {
   "cell_type": "markdown",
   "id": "57ec3b38-23b7-4094-8e6e-651cf01d8c43",
   "metadata": {},
   "source": [
    "<h1>11. Do urban or rural areas have higher casualties per accident?</h1>"
   ]
  },
  {
   "cell_type": "code",
   "execution_count": 22,
   "id": "9f4e500f-ba6e-4fed-910c-980b27cf429c",
   "metadata": {},
   "outputs": [
    {
     "data": {
      "text/plain": [
       "Urban_or_Rural_Area\n",
       "Rural          1.479204\n",
       "Unallocated    1.181818\n",
       "Urban          1.287815\n",
       "Name: Number_of_Casualties, dtype: float64"
      ]
     },
     "execution_count": 22,
     "metadata": {},
     "output_type": "execute_result"
    }
   ],
   "source": [
    "df.groupby('Urban_or_Rural_Area')['Number_of_Casualties'].mean()\n"
   ]
  },
  {
   "cell_type": "markdown",
   "id": "bb612aec-89f3-4204-b731-f139682ec637",
   "metadata": {},
   "source": [
    "<h1>Insights shows that yes it is</h1>\n",
    "<h4> i know the question looks the same as 9 but pls gib me credit theres only so muhc question i can think of at night :<</h4>"
   ]
  },
  {
   "cell_type": "markdown",
   "id": "31ffa152-761e-4be8-acd5-8721f64c47e3",
   "metadata": {},
   "source": [
    "<h1>12 What’s the most dangerous vehicle type in terms of average casualties per accident?</h1>"
   ]
  },
  {
   "cell_type": "code",
   "execution_count": 23,
   "id": "ac5fb1c3-bcd8-4566-ab41-e2a84a173c52",
   "metadata": {},
   "outputs": [
    {
     "data": {
      "text/plain": [
       "Vehicle_Type\n",
       "Data missing or out of range       1.500000\n",
       "Pedal cycle                        1.370558\n",
       "Taxi/Private hire car              1.368663\n",
       "Goods over 3.5t. and under 7.5t    1.362861\n",
       "Motorcycle over 500cc              1.359434\n",
       "Name: Number_of_Casualties, dtype: float64"
      ]
     },
     "execution_count": 23,
     "metadata": {},
     "output_type": "execute_result"
    }
   ],
   "source": [
    "df.groupby('Vehicle_Type')['Number_of_Casualties'].mean().sort_values(ascending=False).head(5)\n"
   ]
  },
  {
   "cell_type": "markdown",
   "id": "456add70-489e-45d9-a86e-b43472ac8f16",
   "metadata": {},
   "source": [
    "<h1>Insights shows its......idk???? its not showing it says it cant show </h1>"
   ]
  },
  {
   "cell_type": "markdown",
   "id": "8b09ae1e-156c-402e-b92d-ff69c0b66497",
   "metadata": {},
   "source": [
    "<h1>13. Does more vehicles involve mean more casualties?</h1>"
   ]
  },
  {
   "cell_type": "code",
   "execution_count": 26,
   "id": "45c2fc45-610f-4ad4-9322-d5398557d36b",
   "metadata": {},
   "outputs": [
    {
     "data": {
      "text/plain": [
       "Number_of_Vehicles\n",
       "1      1.170932\n",
       "2      1.374880\n",
       "3      1.711169\n",
       "4      1.995575\n",
       "5      2.315341\n",
       "6      2.612137\n",
       "7      3.064189\n",
       "8      3.401361\n",
       "9      3.350877\n",
       "10     3.629630\n",
       "11     4.000000\n",
       "12     2.285714\n",
       "13     7.833333\n",
       "14     5.444444\n",
       "15     5.000000\n",
       "16     6.000000\n",
       "19    13.000000\n",
       "28    16.000000\n",
       "32     5.000000\n",
       "Name: Number_of_Casualties, dtype: float64"
      ]
     },
     "execution_count": 26,
     "metadata": {},
     "output_type": "execute_result"
    }
   ],
   "source": [
    "df.groupby('Number_of_Vehicles')['Number_of_Casualties'].mean()\n"
   ]
  },
  {
   "cell_type": "markdown",
   "id": "e3a1fec5-54cb-4d12-9744-596833a50284",
   "metadata": {},
   "source": [
    "<h1>Insight shows maybe? i think thats a yes </h1>"
   ]
  },
  {
   "cell_type": "markdown",
   "id": "606d8d77-6454-4315-bb44-5b31e92e3161",
   "metadata": {},
   "source": [
    "<h1>14. Which month has the highest average casualties per accident?</h1>"
   ]
  },
  {
   "cell_type": "code",
   "execution_count": 30,
   "id": "3d83e75d-29f3-4937-a047-fd72d15242af",
   "metadata": {},
   "outputs": [
    {
     "data": {
      "text/plain": [
       "Month\n",
       "August       1.396324\n",
       "July         1.366350\n",
       "April        1.364796\n",
       "December     1.362972\n",
       "May          1.362791\n",
       "March        1.351107\n",
       "June         1.350826\n",
       "November     1.348024\n",
       "October      1.347801\n",
       "September    1.347144\n",
       "February     1.343941\n",
       "January      1.343585\n",
       "Name: Number_of_Casualties, dtype: float64"
      ]
     },
     "execution_count": 30,
     "metadata": {},
     "output_type": "execute_result"
    }
   ],
   "source": [
    "df[\"Accident Date\"] = pd.to_datetime(df[\"Accident Date\"], dayfirst=True, errors=\"coerce\")\n",
    "df[\"Month\"] = df[\"Accident Date\"].dt.month_name()\n",
    "monthly_avg = df.groupby(\"Month\")[\"Number_of_Casualties\"].mean().sort_values(ascending=False)\n",
    "monthly_avg\n"
   ]
  },
  {
   "cell_type": "markdown",
   "id": "a86a29ca-7c56-4635-8452-351128121eec",
   "metadata": {},
   "source": [
    "<h1>insights shows that The month with the highest average casualties per accident is August, with an average of about 1.40 casualties per accident. </h1>\n",
    "<h4>MY GOD THAT TOOK \"TOO\" LONG TO CODE </h4>"
   ]
  },
  {
   "cell_type": "markdown",
   "id": "6c395a9f-4053-4fab-a335-9cf7d90c1004",
   "metadata": {},
   "source": [
    "<h1>15. Which road surface condition is most correlated with fatal outcomes?</h1>"
   ]
  },
  {
   "cell_type": "code",
   "execution_count": 32,
   "id": "136b477a-ce43-4b84-a05f-fcea630c6b9c",
   "metadata": {},
   "outputs": [
    {
     "data": {
      "text/plain": [
       "(Road_Surface_Conditions\n",
       " Dry                     0.668437\n",
       " Wet or damp             0.302575\n",
       " Frost or ice            0.022289\n",
       " Snow                    0.004042\n",
       " Flood over 3cm. deep    0.002656\n",
       " Name: proportion, dtype: float64,\n",
       " Road_Surface_Conditions\n",
       " Dry                     0.678565\n",
       " Wet or damp             0.282911\n",
       " Frost or ice            0.028058\n",
       " Snow                    0.008925\n",
       " Flood over 3cm. deep    0.001541\n",
       " Name: proportion, dtype: float64)"
      ]
     },
     "execution_count": 32,
     "metadata": {},
     "output_type": "execute_result"
    }
   ],
   "source": [
    "fatal_df = df[df[\"Accident_Severity\"] == \"Fatal\"]\n",
    "fatal_counts = fatal_df[\"Road_Surface_Conditions\"].value_counts(normalize=True)\n",
    "overall_counts = df[\"Road_Surface_Conditions\"].value_counts(normalize=True)\n",
    "fatal_counts, overall_counts\n"
   ]
  },
  {
   "cell_type": "markdown",
   "id": "cb32bf97-98bb-4737-b030-900d6c8494a2",
   "metadata": {},
   "source": [
    "<h1> Insights shows that its Dry road which is weird considering thats the best road condition</h1>"
   ]
  },
  {
   "cell_type": "markdown",
   "id": "e6e33da1-32cf-48f5-b632-cee28658701d",
   "metadata": {},
   "source": [
    "<h1>16. What is the average number of casualties per accident?</h1>"
   ]
  },
  {
   "cell_type": "code",
   "execution_count": 33,
   "id": "b2c07695-6bd9-4177-b396-9bc9eaa054de",
   "metadata": {},
   "outputs": [
    {
     "data": {
      "text/plain": [
       "np.float64(1.36)"
      ]
     },
     "execution_count": 33,
     "metadata": {},
     "output_type": "execute_result"
    }
   ],
   "source": [
    "df['Number_of_Casualties'].mean().round(2)\n"
   ]
  },
  {
   "cell_type": "markdown",
   "id": "683b830b-a565-4fb1-b0a6-0458f08a0e3d",
   "metadata": {},
   "source": [
    "<h1>insiights shows that its around 1.36</h1>"
   ]
  },
  {
   "cell_type": "markdown",
   "id": "e885f952-58f4-4100-a494-7d88c9c9544b",
   "metadata": {},
   "source": [
    "<h1>17. What is the correlation between the number of casualties and the number of vehicles involved in accidents?</h1>"
   ]
  },
  {
   "cell_type": "code",
   "execution_count": 34,
   "id": "5b909343-336e-491a-a58f-ace90f436358",
   "metadata": {},
   "outputs": [
    {
     "data": {
      "text/plain": [
       "np.float64(0.22888886126927563)"
      ]
     },
     "execution_count": 34,
     "metadata": {},
     "output_type": "execute_result"
    }
   ],
   "source": [
    "df['Number_of_Casualties'].corr(df['Number_of_Vehicles'])\n"
   ]
  },
  {
   "cell_type": "markdown",
   "id": "1e1a7c26-fe7d-44b9-a181-402fda563ba9",
   "metadata": {},
   "source": [
    "<h1>insights shows more vehicles usually mean more casualties, but not very strongly.</h1>"
   ]
  },
  {
   "cell_type": "markdown",
   "id": "496d9980-f3ad-4392-a16e-bee13f53e119",
   "metadata": {},
   "source": [
    "<h1>18. What is the correlation between latitude and longitude?</h1>"
   ]
  },
  {
   "cell_type": "code",
   "execution_count": 35,
   "id": "141edec2-b428-4422-906a-85c0964edcf8",
   "metadata": {},
   "outputs": [
    {
     "data": {
      "text/plain": [
       "np.float64(-0.3981136594753893)"
      ]
     },
     "execution_count": 35,
     "metadata": {},
     "output_type": "execute_result"
    }
   ],
   "source": [
    "df['Latitude'].corr(df['Longitude'])\n"
   ]
  },
  {
   "cell_type": "markdown",
   "id": "5298b5d9-5fd8-461c-b9b7-4255f8343d0c",
   "metadata": {},
   "source": [
    "\n",
    "<h1> insights as latitude increases, longitude tends to decrease </h1>"
   ]
  },
  {
   "cell_type": "markdown",
   "id": "44b84330-72aa-4dc0-81bd-3308371c8ce1",
   "metadata": {},
   "source": [
    "<h1>19. What is the correlation between latitude and the number of casualties?</h1>"
   ]
  },
  {
   "cell_type": "code",
   "execution_count": 36,
   "id": "98636631-ffb7-43a5-b066-e571d0b0611e",
   "metadata": {},
   "outputs": [
    {
     "data": {
      "text/plain": [
       "np.float64(0.032200913378368654)"
      ]
     },
     "execution_count": 36,
     "metadata": {},
     "output_type": "execute_result"
    }
   ],
   "source": [
    "df['Latitude'].corr(df['Number_of_Casualties'])\n"
   ]
  },
  {
   "cell_type": "markdown",
   "id": "510a174d-fb00-4a32-9086-a6ac472a2b93",
   "metadata": {},
   "source": [
    "<h1>insights shows its weak meanign it has almost no correlation with the amount of casualties </h1>"
   ]
  },
  {
   "cell_type": "markdown",
   "id": "c5772a52-6256-4cce-b2ac-40003d9e35ed",
   "metadata": {},
   "source": [
    "<h1>20. What is the correlation between longitude and the number of casualties?</h1>"
   ]
  },
  {
   "cell_type": "code",
   "execution_count": 37,
   "id": "2f0ae882-6459-41ac-87ae-d26abaf2d4e2",
   "metadata": {},
   "outputs": [
    {
     "data": {
      "text/plain": [
       "np.float64(-0.04040593604880228)"
      ]
     },
     "execution_count": 37,
     "metadata": {},
     "output_type": "execute_result"
    }
   ],
   "source": [
    "df['Longitude'].corr(df['Number_of_Casualties'])\n"
   ]
  },
  {
   "cell_type": "markdown",
   "id": "ee4d60d3-6781-4d3b-af85-201796e23347",
   "metadata": {},
   "source": [
    "<h1>insights shows its the same with lattitude meanign it has almost no correlation</h1>"
   ]
  },
  {
   "cell_type": "code",
   "execution_count": null,
   "id": "336d2717-4ea3-47f4-af29-f0398e521145",
   "metadata": {},
   "outputs": [],
   "source": []
  }
 ],
 "metadata": {
  "kernelspec": {
   "display_name": "Python 3 (ipykernel)",
   "language": "python",
   "name": "python3"
  },
  "language_info": {
   "codemirror_mode": {
    "name": "ipython",
    "version": 3
   },
   "file_extension": ".py",
   "mimetype": "text/x-python",
   "name": "python",
   "nbconvert_exporter": "python",
   "pygments_lexer": "ipython3",
   "version": "3.11.9"
  }
 },
 "nbformat": 4,
 "nbformat_minor": 5
}
