{
 "cells": [
  {
   "cell_type": "markdown",
   "id": "b2048488-0a40-463c-a056-fbf05e0a2b7d",
   "metadata": {},
   "source": [
    "<h1>Activity 1 Palmer Penguins Data Analysis</h1>\n",
    "<h2>ANALYST:MR POGI</h2>"
   ]
  }
 ],
 "metadata": {
  "kernelspec": {
   "display_name": "Python 3 (ipykernel)",
   "language": "python",
   "name": "python3"
  },
  "language_info": {
   "codemirror_mode": {
    "name": "ipython",
    "version": 3
   },
   "file_extension": ".py",
   "mimetype": "text/x-python",
   "name": "python",
   "nbconvert_exporter": "python",
   "pygments_lexer": "ipython3",
   "version": "3.11.3"
  }
 },
 "nbformat": 4,
 "nbformat_minor": 5
}
